{
 "cells": [
  {
   "cell_type": "markdown",
   "id": "c6fd5445",
   "metadata": {},
   "source": [
    "\n",
    "# Sentiment Analysis of Reviews"
   ]
  },
  {
   "cell_type": "markdown",
   "id": "313e6651",
   "metadata": {},
   "source": [
    "## Naïve Bayes classifier"
   ]
  },
  {
   "cell_type": "markdown",
   "id": "0a5e31a0",
   "metadata": {},
   "source": [
    "In this first part of this lab, we are going to implement the Naïve Bayes classifier for the sentiment analysis of car reviews.\n",
    "\n",
    "First, we need to import necessary libraries and packages to faciliate our work."
   ]
  },
  {
   "cell_type": "code",
   "execution_count": 1,
   "id": "54c5a339",
   "metadata": {},
   "outputs": [
    {
     "name": "stderr",
     "output_type": "stream",
     "text": [
      "[nltk_data] Downloading package punkt to\n",
      "[nltk_data]     C:\\Users\\Andy\\AppData\\Roaming\\nltk_data...\n",
      "[nltk_data]   Package punkt is already up-to-date!\n"
     ]
    }
   ],
   "source": [
    "import pandas as pd\n",
    "import numpy as np\n",
    "import re\n",
    "import nltk\n",
    "from nltk.corpus import stopwords\n",
    "from nltk.tokenize import word_tokenize\n",
    "from nltk.stem.porter import PorterStemmer\n",
    "from sklearn.feature_extraction.text import CountVectorizer\n",
    "from sklearn.model_selection import train_test_split\n",
    "nltk.download('punkt')\n",
    "import string"
   ]
  },
  {
   "cell_type": "markdown",
   "id": "851fd219",
   "metadata": {},
   "source": [
    "Now we need to import the raw dataset of reviews for Ford motor vehicles using csv reading library  - pandas."
   ]
  },
  {
   "cell_type": "code",
   "execution_count": 2,
   "id": "f6b6ed51",
   "metadata": {},
   "outputs": [
    {
     "data": {
      "text/html": [
       "<div>\n",
       "<style scoped>\n",
       "    .dataframe tbody tr th:only-of-type {\n",
       "        vertical-align: middle;\n",
       "    }\n",
       "\n",
       "    .dataframe tbody tr th {\n",
       "        vertical-align: top;\n",
       "    }\n",
       "\n",
       "    .dataframe thead th {\n",
       "        text-align: right;\n",
       "    }\n",
       "</style>\n",
       "<table border=\"1\" class=\"dataframe\">\n",
       "  <thead>\n",
       "    <tr style=\"text-align: right;\">\n",
       "      <th></th>\n",
       "      <th>Sentiment</th>\n",
       "      <th>Review</th>\n",
       "    </tr>\n",
       "  </thead>\n",
       "  <tbody>\n",
       "    <tr>\n",
       "      <th>0</th>\n",
       "      <td>Neg</td>\n",
       "      <td>In 1992 we bought a new Taurus and we really ...</td>\n",
       "    </tr>\n",
       "    <tr>\n",
       "      <th>1</th>\n",
       "      <td>Neg</td>\n",
       "      <td>The last business trip  I drove to San Franci...</td>\n",
       "    </tr>\n",
       "    <tr>\n",
       "      <th>2</th>\n",
       "      <td>Neg</td>\n",
       "      <td>My husband and I purchased a 1990 Ford F250 a...</td>\n",
       "    </tr>\n",
       "    <tr>\n",
       "      <th>3</th>\n",
       "      <td>Neg</td>\n",
       "      <td>I feel I have a thorough opinion of this truc...</td>\n",
       "    </tr>\n",
       "    <tr>\n",
       "      <th>4</th>\n",
       "      <td>Neg</td>\n",
       "      <td>AS a mother of 3  all of whom are still in ca...</td>\n",
       "    </tr>\n",
       "  </tbody>\n",
       "</table>\n",
       "</div>"
      ],
      "text/plain": [
       "  Sentiment                                             Review\n",
       "0       Neg   In 1992 we bought a new Taurus and we really ...\n",
       "1       Neg   The last business trip  I drove to San Franci...\n",
       "2       Neg   My husband and I purchased a 1990 Ford F250 a...\n",
       "3       Neg   I feel I have a thorough opinion of this truc...\n",
       "4       Neg   AS a mother of 3  all of whom are still in ca..."
      ]
     },
     "execution_count": 2,
     "metadata": {},
     "output_type": "execute_result"
    }
   ],
   "source": [
    "df = pd.read_csv (r'C:\\Users\\Andy\\Downloads\\course\\CM50266 - ADS\\Lab2\\car_reviews.csv')\n",
    "df.head()"
   ]
  },
  {
   "cell_type": "markdown",
   "id": "34d731f9",
   "metadata": {},
   "source": [
    "Right now, the dataset is having categorical data for the sentiment as \"Pos\" and \"Neg\". \n",
    "\n",
    "To assist for machine learning classifer, we will covert them to numerical value 0 and 1.\n",
    "The function <b>pd.get_dummies</b> is used here for this purpose."
   ]
  },
  {
   "cell_type": "code",
   "execution_count": 3,
   "id": "6f91a3bb",
   "metadata": {},
   "outputs": [
    {
     "data": {
      "text/html": [
       "<div>\n",
       "<style scoped>\n",
       "    .dataframe tbody tr th:only-of-type {\n",
       "        vertical-align: middle;\n",
       "    }\n",
       "\n",
       "    .dataframe tbody tr th {\n",
       "        vertical-align: top;\n",
       "    }\n",
       "\n",
       "    .dataframe thead th {\n",
       "        text-align: right;\n",
       "    }\n",
       "</style>\n",
       "<table border=\"1\" class=\"dataframe\">\n",
       "  <thead>\n",
       "    <tr style=\"text-align: right;\">\n",
       "      <th></th>\n",
       "      <th>Sentiment</th>\n",
       "      <th>senti</th>\n",
       "      <th>Review</th>\n",
       "    </tr>\n",
       "  </thead>\n",
       "  <tbody>\n",
       "    <tr>\n",
       "      <th>0</th>\n",
       "      <td>Neg</td>\n",
       "      <td>0</td>\n",
       "      <td>In 1992 we bought a new Taurus and we really ...</td>\n",
       "    </tr>\n",
       "    <tr>\n",
       "      <th>1</th>\n",
       "      <td>Neg</td>\n",
       "      <td>0</td>\n",
       "      <td>The last business trip  I drove to San Franci...</td>\n",
       "    </tr>\n",
       "    <tr>\n",
       "      <th>2</th>\n",
       "      <td>Neg</td>\n",
       "      <td>0</td>\n",
       "      <td>My husband and I purchased a 1990 Ford F250 a...</td>\n",
       "    </tr>\n",
       "    <tr>\n",
       "      <th>3</th>\n",
       "      <td>Neg</td>\n",
       "      <td>0</td>\n",
       "      <td>I feel I have a thorough opinion of this truc...</td>\n",
       "    </tr>\n",
       "    <tr>\n",
       "      <th>4</th>\n",
       "      <td>Neg</td>\n",
       "      <td>0</td>\n",
       "      <td>AS a mother of 3  all of whom are still in ca...</td>\n",
       "    </tr>\n",
       "    <tr>\n",
       "      <th>...</th>\n",
       "      <td>...</td>\n",
       "      <td>...</td>\n",
       "      <td>...</td>\n",
       "    </tr>\n",
       "    <tr>\n",
       "      <th>1377</th>\n",
       "      <td>Pos</td>\n",
       "      <td>1</td>\n",
       "      <td>In June we bought the Sony Limited Edition Fo...</td>\n",
       "    </tr>\n",
       "    <tr>\n",
       "      <th>1378</th>\n",
       "      <td>Pos</td>\n",
       "      <td>1</td>\n",
       "      <td>After 140 000 miles  we decided to replace my...</td>\n",
       "    </tr>\n",
       "    <tr>\n",
       "      <th>1379</th>\n",
       "      <td>Pos</td>\n",
       "      <td>1</td>\n",
       "      <td>The Ford Focus is a great little record setti...</td>\n",
       "    </tr>\n",
       "    <tr>\n",
       "      <th>1380</th>\n",
       "      <td>Pos</td>\n",
       "      <td>1</td>\n",
       "      <td>I needed a new car because my hyundai excel 9...</td>\n",
       "    </tr>\n",
       "    <tr>\n",
       "      <th>1381</th>\n",
       "      <td>Pos</td>\n",
       "      <td>1</td>\n",
       "      <td>The 2000 Ford Focus SE 4 door sedan has a spa...</td>\n",
       "    </tr>\n",
       "  </tbody>\n",
       "</table>\n",
       "<p>1382 rows × 3 columns</p>\n",
       "</div>"
      ],
      "text/plain": [
       "     Sentiment  senti                                             Review\n",
       "0          Neg      0   In 1992 we bought a new Taurus and we really ...\n",
       "1          Neg      0   The last business trip  I drove to San Franci...\n",
       "2          Neg      0   My husband and I purchased a 1990 Ford F250 a...\n",
       "3          Neg      0   I feel I have a thorough opinion of this truc...\n",
       "4          Neg      0   AS a mother of 3  all of whom are still in ca...\n",
       "...        ...    ...                                                ...\n",
       "1377       Pos      1   In June we bought the Sony Limited Edition Fo...\n",
       "1378       Pos      1   After 140 000 miles  we decided to replace my...\n",
       "1379       Pos      1   The Ford Focus is a great little record setti...\n",
       "1380       Pos      1   I needed a new car because my hyundai excel 9...\n",
       "1381       Pos      1   The 2000 Ford Focus SE 4 door sedan has a spa...\n",
       "\n",
       "[1382 rows x 3 columns]"
      ]
     },
     "execution_count": 3,
     "metadata": {},
     "output_type": "execute_result"
    }
   ],
   "source": [
    "sen = pd.get_dummies(df['Sentiment'])\n",
    "sen.drop('Neg',inplace=True, axis=1)\n",
    "df['senti'] = sen['Pos']\n",
    "df = df[['Sentiment', 'senti', 'Review']]\n",
    "df"
   ]
  },
  {
   "cell_type": "markdown",
   "id": "edd47f8a",
   "metadata": {},
   "source": [
    "At this point, we still need to perform a lot of clean up work for the data before using it in the classifier. This include:\n",
    "- Identifying and excluding all punctuation and words that are not likely to affect sentiment (e.g. stopwords)\n",
    "- ensuring that remaining words are not case sensitive\n",
    "-  treat minor variations of a word (e.g. ‘fault’, ‘faults’ and ‘faulty’) as instances of the same word (e.g. ‘fault’) when using them in your classifier. (i.e the stemming process)"
   ]
  },
  {
   "cell_type": "code",
   "execution_count": 4,
   "id": "f999790b",
   "metadata": {
    "scrolled": true
   },
   "outputs": [],
   "source": [
    "stop_words = set(stopwords.words('english'))\n",
    "review = []\n",
    "for i in range(len(df['Review'])):\n",
    "    value = df[\"Review\"].iloc[i]\n",
    "    word_tokens = word_tokenize(value)\n",
    "    ps = PorterStemmer()\n",
    "    #filtered_sentence = [w for w in word_tokens if not w.lower() in stop_words]\n",
    "    filtered_sentence = [ps.stem(w) for w in word_tokens if not w.lower() in stop_words]\n",
    "    filtered_sentence = ' '.join(filtered_sentence)\n",
    "    review.append(filtered_sentence)"
   ]
  },
  {
   "cell_type": "markdown",
   "id": "1018a69c",
   "metadata": {},
   "source": [
    "Below is going to demonstrate what have been done to the above data cleaning process."
   ]
  },
  {
   "cell_type": "code",
   "execution_count": 5,
   "id": "09ae6418",
   "metadata": {},
   "outputs": [
    {
     "name": "stdout",
     "output_type": "stream",
     "text": [
      "{'wouldn', 'this', \"isn't\", 'all', 'were', 'i', 'did', 'whom', 'haven', 'ours', \"mustn't\", 'through', 'but', 'that', \"shouldn't\", 'which', 'there', 'against', 'too', 'or', 'we', 'before', 'not', 'am', 'an', 'on', 'will', 'can', \"wouldn't\", 'd', 'him', 'the', 'wasn', 'me', 'more', 'of', 'so', 'about', \"didn't\", \"couldn't\", 'it', 'being', 'those', 'if', 'you', 'was', 'who', 'ain', 'with', 'y', 'under', 'our', 'its', 'into', 'ourselves', 'out', 'other', \"hadn't\", 'very', 'yourself', 'do', 'what', 'won', 'once', 'by', 'isn', 'her', 'doesn', 'after', 'where', 'themselves', 'my', 'just', 'now', \"wasn't\", 'mustn', 'are', 'as', 'yourselves', 'mightn', 'them', 'during', 'nor', 'again', 'needn', 'than', 'be', 'off', 'how', 'both', 'these', 'down', 'aren', 'weren', 'does', 's', 'yours', 'no', 'he', 're', 'shouldn', 'below', 'herself', 'above', 'over', 've', 'don', \"you're\", 'having', \"hasn't\", 'shan', 'been', \"she's\", 'such', 'your', \"it's\", \"weren't\", 'while', 'when', 'ma', 'most', \"aren't\", 'own', 'some', 'hers', \"mightn't\", 'because', 'hasn', 'doing', \"should've\", \"you'll\", 'couldn', \"haven't\", 'any', \"needn't\", 'same', 'their', \"don't\", 'further', 'then', 'hadn', 'itself', 'has', \"shan't\", 'why', 'for', 'll', 'at', 'to', \"doesn't\", 'between', 'in', 'his', 'each', 'she', \"you'd\", 'from', 'a', 'they', 'should', 'm', 'few', 'myself', 'theirs', 'here', 'until', 'o', 'only', \"won't\", \"you've\", 'himself', \"that'll\", 'up', 't', 'have', 'is', 'didn', 'had', 'and'}\n"
     ]
    }
   ],
   "source": [
    "print(stop_words)"
   ]
  },
  {
   "cell_type": "markdown",
   "id": "fd6467a7",
   "metadata": {},
   "source": [
    "The above print result shows all the stopwords that are not likely to affect the sentiment. This list comes from the python <b>NLTK libarary</b> that we import at the beginning. PorterStemmer and word_tokenize from <b>NLTK libarary</b> are also used to assist word tokenize and the stemming process.\n",
    "\n",
    "A for loop is used in here to iterate every single review in the csv file. Here we remove all the stopwords and apply the stemming process to treat similar words as equal with no sentivity to case. \n",
    "\n",
    "Below we will take the first 2 reviews from the raw data and prove that they contains <b>no stopwords/punctuation</b> and <b>not case sensitive</b>."
   ]
  },
  {
   "cell_type": "code",
   "execution_count": 6,
   "id": "b8e33dbd",
   "metadata": {},
   "outputs": [
    {
     "name": "stdout",
     "output_type": "stream",
     "text": [
      "1992 bought new tauru realli love 1999 decid tri new tauru care style newer version bought anyway like new car half much like one thee dash much deep take lot room find seat comfort way side stick strip protect card dent drive nice good pick see hood driver seat judg park difficult small ga tank would buy tauru would rather 1992 back think style nice 1992 mistak chang style less month dead batteri flat tire\n",
      "last busi trip drove san francisco went hertz rental got 1999 ford tauru think look comfort profession found seat uncomfort well passeng seat comfort may import fuel usag fine car get us problem uncomfort ride us though hard fit car 5 5 weigh 115 pound usual quit comfort car tauru seem especi uncomfort anyon think rent car long trip would suggest ford tauru 1999 list sure get larg trunk allow us pack lot materi need busi end trip drive breez everyth work right complaint standard make car except comfort area import comfort long trip uncomfort driver distract made trip seem unnecessarili longer felt make trip lot saturn would better choic rent model quit often offer comfort tauru simpli plan long trip buy car intend comfort seat check tauru longer trial basi might anoth car may find thing happen comfort\n",
      "\n",
      "\n",
      "This first review only contains lower case words is True\n",
      "This second review only contains lower case words is True\n",
      "The number of stopwords contained in the first review is = 0\n",
      "The number of stopwords contained in the second review is = 0\n",
      "The number of punctuation contained in the first review is = 0\n",
      "The number of punctuation contained in the second review is = 0\n"
     ]
    }
   ],
   "source": [
    "print(review[0])\n",
    "print(review[1])\n",
    "print(\"\\n\")\n",
    "print('This first review only contains lower case words is ' + str(review[0].islower()))\n",
    "print('This second review only contains lower case words is ' + str(review[1].islower()))\n",
    "\n",
    "lstreview0 = [x for x in review[0].split()]\n",
    "print('The number of stopwords contained in the first review is = '+ str(len([w for w in stop_words if w in lstreview0])))\n",
    "lstreview1 = [x for x in review[1].split()]\n",
    "print('The number of stopwords contained in the second review is = '+ str(len([w for w in stop_words if w in lstreview1])))\n",
    "\n",
    "for i in review[0]:\n",
    "    count0 = 0\n",
    "    if i in string.punctuation:\n",
    "        count0 += 1\n",
    "        \n",
    "for i in review[1]:\n",
    "    count1 = 0\n",
    "    if i in string.punctuation:\n",
    "        count1 += 1\n",
    "        \n",
    "print('The number of punctuation contained in the first review is = '+ str(count0))\n",
    "print('The number of punctuation contained in the second review is = '+ str(count1))        "
   ]
  },
  {
   "cell_type": "markdown",
   "id": "3ca8b997",
   "metadata": {},
   "source": [
    "Below we are going to show how the stemming process is applied to treat similar words.\n",
    "\n",
    "The code are exactly the same with the above, however instead of the original reviews, 3 different list of words will be shown in this part for clear explanation. They will be using the same method: <b>ps.stem from NLTK</b>, to stemmed into the same root."
   ]
  },
  {
   "cell_type": "code",
   "execution_count": 7,
   "id": "9e3a1bbd",
   "metadata": {},
   "outputs": [
    {
     "name": "stdout",
     "output_type": "stream",
     "text": [
      "[['program', 'programm', 'program'], ['like', 'like', 'like', 'like'], ['retriev', 'retriev', 'retriev']]\n"
     ]
    }
   ],
   "source": [
    "valuelst = ['program programmer programming', 'likes likely liking liked', 'retrieval retrieved retrieves']\n",
    "exp = []\n",
    "for s in valuelst:\n",
    "    word_tokens = word_tokenize(s)\n",
    "    ps = PorterStemmer()\n",
    "    filtered_sentence = [ps.stem(w) for w in word_tokens if not w.lower() in stop_words]\n",
    "    exp.append(filtered_sentence)\n",
    "print(exp)"
   ]
  },
  {
   "cell_type": "markdown",
   "id": "58216933",
   "metadata": {},
   "source": [
    "To avoid data leakage, we need to split our data before applying the Naïve Bayes model. By seperating the dependent variable into x_train and x_test, we can ensure that only the training data is used to train up the model.\n",
    "\n",
    "Below the <b>train_test_split function</b> from sklearn is used to split the data randomly, where 80% (1106) of the reviews will be training data, and 20% (276) of them will be testing data. We will be analyzing the effect of the independent X variable (reviews) on the dependent Y variable (sentiment)."
   ]
  },
  {
   "cell_type": "code",
   "execution_count": 8,
   "id": "08e83d4d",
   "metadata": {},
   "outputs": [],
   "source": [
    "x = np.array(review)\n",
    "y = df.iloc[:, 1].values\n",
    "x_train, x_test, y_train, y_test = train_test_split(x, y, test_size = 0.199, random_state=2)\n"
   ]
  },
  {
   "cell_type": "markdown",
   "id": "80ae02d2",
   "metadata": {},
   "source": [
    "At this part, we will make use of the <b>class CountVectorizer()</b> from sklearn to transform each review in to a vector.\n",
    "\n",
    "In the print result, we can see the shape of x_train1 = (1106, 10087), where 1106 represent the number of reviews in the training data, and 10087 represent the features (or the size of the bag of words) of the training data. The number inside each vector also represent the the number of times that a word (or word stem) appears in each review.\n"
   ]
  },
  {
   "cell_type": "code",
   "execution_count": 9,
   "id": "f195be44",
   "metadata": {},
   "outputs": [
    {
     "name": "stdout",
     "output_type": "stream",
     "text": [
      "[[0 0 0 ... 0 0 0]\n",
      " [0 1 0 ... 0 0 0]\n",
      " [0 0 0 ... 0 0 0]\n",
      " ...\n",
      " [0 0 0 ... 0 0 0]\n",
      " [0 0 0 ... 0 0 0]\n",
      " [0 7 0 ... 0 0 0]]\n",
      "(1106, 10087)\n",
      "(276, 10087)\n"
     ]
    }
   ],
   "source": [
    "# Generate counts from text using a vectorizer. This perform our step of computing word counts.  \n",
    "# No parameter was set here, by default unigram will be used.  \n",
    "cv = CountVectorizer()\n",
    "# train and test data (x_train, x_test, y_train, y_test) have been splitted.\n",
    "# Generate counts from text using a vectorizer. This perform our step of computing word counts.\n",
    "x_train1 = cv.fit_transform(x_train).toarray()\n",
    "x_test1 = cv.transform(x_test).toarray()\n",
    "print(x_train1)\n",
    "print(x_train1.shape)\n",
    "print(x_test1.shape)\n",
    "\n"
   ]
  },
  {
   "cell_type": "markdown",
   "id": "1ecfa251",
   "metadata": {},
   "source": [
    "Next part, we are going to implement the NaïveBayes model to our data.\n",
    "\n",
    "There are several type of <b>event models</b> for the NaïveBayes, including Gaussian naïve Bayes, Multinomial naïve Bayes and Bernoulli naïve Bayes model. \n",
    "\n",
    "For this task, we are required to perform sentiment analysis. From the three models, <b>Multinomial naïve Bayes</b> is the most suitable one. As our data which consist of different words in each review (feature vectors) represent the frequencies with which certain events have been generated by a multinomial <b>(p1,.....,pn)</b> where pi is the probability that event i occurs. \n",
    "\n",
    "As seen from the printed x_train1 result above, each review is shaped into a feature factor, <b>counting the number of times event i</b> was observed in a particular instance. This is the event model typically used for document classification, with events representing the occurrence of a word in a single document.\n",
    "\n",
    "\n",
    "We imported the MultinominalNB from the sklearn library. \n",
    "The multinomial Naive Bayes classifier is suitable for classification with discrete features (e.g., word counts for text classification). We used the x_train and y_train data to fit the model, and then use the model to get y_pred from x_test data. Finally, we caculate the confusion matrix with a 77.90% of accuracy."
   ]
  },
  {
   "cell_type": "code",
   "execution_count": 10,
   "id": "e0193506",
   "metadata": {},
   "outputs": [
    {
     "name": "stdout",
     "output_type": "stream",
     "text": [
      "Confusion Matrix\n",
      "[[101  36]\n",
      " [ 25 114]]\n",
      "The accuracy rate is 77.9%\n"
     ]
    }
   ],
   "source": [
    "from sklearn.naive_bayes import MultinomialNB\n",
    "# Fit a naive bayes model to the training data.\n",
    "# This will train the model using the word counts we compute, and the existing classifications in the training set.\n",
    "mnb = MultinomialNB()\n",
    "mnb.fit(x_train1,y_train)\n",
    "# Now we can use the model to predict classifications for our test features.\n",
    "y_pred = mnb.predict(x_test1)\n",
    "from sklearn.metrics import confusion_matrix\n",
    "\n",
    "# Finally we use the prediction result and compare with the inital test data classifier to check the accuracy.\n",
    "cm = confusion_matrix(y_test, y_pred)\n",
    "print('Confusion Matrix')\n",
    "print(cm)\n",
    "cm_acc = (cm[0][0]+cm[1][1])/cm.sum()\n",
    "print('The accuracy rate is {}%'.format(round(cm_acc*100,2)))"
   ]
  },
  {
   "cell_type": "markdown",
   "id": "f5b4cd4c",
   "metadata": {},
   "source": [
    "Below output demonstrate the performance of the Naïve Bayes classifier.\n",
    "\n",
    "The confusion matrix clearly indicate the proportion of True Negatives, False Positives, False Negatives and True Positives."
   ]
  },
  {
   "cell_type": "code",
   "execution_count": 11,
   "id": "55163c9b",
   "metadata": {},
   "outputs": [
    {
     "data": {
      "text/plain": [
       "[Text(0, 0.5, 'False'), Text(0, 1.5, 'True')]"
      ]
     },
     "execution_count": 11,
     "metadata": {},
     "output_type": "execute_result"
    },
    {
     "data": {
      "image/png": "[encoded data removed]",
      "text/plain": [
       "<Figure size 432x288 with 2 Axes>"
      ]
     },
     "metadata": {
      "needs_background": "light"
     },
     "output_type": "display_data"
    }
   ],
   "source": [
    "import seaborn as sns\n",
    "ax = sns.heatmap(cm/np.sum(cm), annot=True, \n",
    "            fmt='.2%', cmap='Blues')\n",
    "\n",
    "ax.set_title('NaïveBayes Sentiment analysis\\n\\n');\n",
    "ax.set_xlabel('\\nPredicted Values')\n",
    "ax.set_ylabel('Actual Values ');\n",
    "\n",
    "## Ticket labels - List must be in alphabetical order\n",
    "ax.xaxis.set_ticklabels(['False','True'])\n",
    "ax.yaxis.set_ticklabels(['False','True'])\n",
    "\n",
    "## Display the visualization of the Confusion Matrix.\n"
   ]
  },
  {
   "cell_type": "markdown",
   "id": "0e05c1df",
   "metadata": {},
   "source": [
    "## Task 2 Improvements"
   ]
  },
  {
   "cell_type": "markdown",
   "id": "231ab50b",
   "metadata": {},
   "source": [
    "In the second part of this lab, we are going to identify and research a way to improve on the solution from the NB classifer.\n",
    "\n",
    "From task 1, we can see that the Multinomial naïve Bayes classifer is using an unigram approach. Reviews are being splitted to single words to fit in the training model. But this might not be the best approach, as if you look at the word <b>'not good'</b>, unigram will seperate it into 'not' and 'good'. We would only consider these two words individually with a unigram-only model and probably not capture that this is actually a <b>negative sentiment</b> because the word ‘good’ by itself is going to be <b>highly correlated with a positive review</b>. N-gram is one way to solve this issue, as it consider the 'not good' as a whole and thus more likely to classifer it as a negative sentiment.\n",
    "\n",
    "Research from an article (Nithyashree, 2021, para.1-2) also shows that Bi-gram and tri-gram works best for sentiment analysis.\n",
    "\n",
    "Below is an example to understand n-gram practically with a sentence:\n",
    "'I study in bath.'\n",
    "\n",
    "Type of n-gram: <b>Uni-gram</b><br>\n",
    "Generated n-gram: ['I', 'study', 'in', 'Bath']\n",
    "\n",
    "Type of n-gram: <b>Bi-gram</b><br>\n",
    "Generated n-gram: ['I study', 'study in', 'in bath']\n",
    "\n",
    "Type of n-gram: <b>Tri-gram</b><br>\n",
    "Generated n-gram: ['I study in', 'study in bath']\n",
    "\n",
    "\n",
    "To try to improve the performance, we will implement different size of n-gram and compare the result with the initial Naïve Bayes classifier. We expect Bi-gram will give us the best result, as it is able to consider the word 'not' pair up with a positive adjective in the review(which will more likely generate a negative sentiment), thus adding predictive power to our classifer."
   ]
  },
  {
   "cell_type": "markdown",
   "id": "5f3d33ed",
   "metadata": {},
   "source": [
    "## Bi-gram"
   ]
  },
  {
   "cell_type": "code",
   "execution_count": 12,
   "id": "43dfc8ee",
   "metadata": {},
   "outputs": [
    {
     "name": "stdout",
     "output_type": "stream",
     "text": [
      "Confusion Matrix\n",
      "[[ 96  41]\n",
      " [ 24 115]]\n",
      "The accuracy rate is 76.45%\n"
     ]
    }
   ],
   "source": [
    "# First, set n-gram = Bi-gram by setting parameter ngram_range = (2,2)\n",
    "cv2 = CountVectorizer(ngram_range=(2,2))\n",
    "\n",
    "# train and test data (x_train, x_test, y_train, y_test) have been splitted in task1, we will use the same split for consistent purpose\n",
    "# Generate counts from text using a vectorizer. This perform our step of computing word counts.  \n",
    "x_train2 = cv2.fit_transform(x_train).toarray()\n",
    "x_test2 = cv2.transform(x_test).toarray()\n",
    "\n",
    "# Fit a naive bayes model to the training data.\n",
    "# This will train the model using the word counts we compute, and the existing classifications in the training set.\n",
    "mnb2 = MultinomialNB()\n",
    "mnb2.fit(x_train2,y_train)\n",
    "# Now we can use the model to predict classifications for our test features.\n",
    "y_pred2 = mnb2.predict(x_test2)\n",
    "\n",
    "\n",
    "from sklearn.metrics import confusion_matrix\n",
    "\n",
    "# Finally we use the prediction result and compare with the inital test data classifier to check the accuracy.\n",
    "cm2 = confusion_matrix(y_test, y_pred2)\n",
    "print('Confusion Matrix')\n",
    "print(cm2)\n",
    "cm2_acc = (cm2[0][0]+cm2[1][1])/cm2.sum()\n",
    "print('The accuracy rate is {}%'.format(round(cm2_acc*100,2)))"
   ]
  },
  {
   "cell_type": "markdown",
   "id": "9f7f62c9",
   "metadata": {},
   "source": [
    "## Tri-gram"
   ]
  },
  {
   "cell_type": "code",
   "execution_count": 13,
   "id": "1238f04e",
   "metadata": {},
   "outputs": [
    {
     "name": "stdout",
     "output_type": "stream",
     "text": [
      "Confusion Matrix\n",
      "[[ 76  61]\n",
      " [ 33 106]]\n",
      "The accuracy rate is 65.94%\n"
     ]
    }
   ],
   "source": [
    "# First, set n-gram = Tri-gram by setting parameter ngram_range = (3,3)\n",
    "cv3 = CountVectorizer(ngram_range=(3,3))\n",
    "\n",
    "# train and test data (x_train, x_test, y_train, y_test) have been splitted in task1, we will use the same split for consistent purpose\n",
    "# Generate counts from text using a vectorizer. This perform our step of computing word counts.  \n",
    "x_train3 = cv3.fit_transform(x_train).toarray()\n",
    "x_test3 = cv3.transform(x_test).toarray()\n",
    "\n",
    "# Fit a naive bayes model to the training data.\n",
    "# This will train the model using the word counts we compute, and the existing classifications in the training set.\n",
    "mnb3 = MultinomialNB()\n",
    "mnb3.fit(x_train3,y_train)\n",
    "# Now we can use the model to predict classifications for our test features.\n",
    "y_pred3 = mnb3.predict(x_test3)\n",
    "\n",
    "\n",
    "from sklearn.metrics import confusion_matrix\n",
    "\n",
    "# Finally we use the prediction result and compare with the inital test data classifier to check the accuracy.\n",
    "cm3 = confusion_matrix(y_test, y_pred3)\n",
    "print('Confusion Matrix')\n",
    "print(cm3)\n",
    "cm3_acc = (cm3[0][0]+cm3[1][1])/cm3.sum()\n",
    "print('The accuracy rate is {}%'.format(round(cm3_acc*100,2)))"
   ]
  },
  {
   "cell_type": "markdown",
   "id": "eb930203",
   "metadata": {},
   "source": [
    "From the above testing of different size of n-grams, we can see uni-gram and bi-gram result in similar accuracy, while tri-gram seemingly has the worse performance.<br> As uni-gram and bi-gram got similar result, we will try to combine them to see if performance improves."
   ]
  },
  {
   "cell_type": "markdown",
   "id": "45eef3d7",
   "metadata": {},
   "source": [
    "## Uni-gram + Bi-gram"
   ]
  },
  {
   "cell_type": "code",
   "execution_count": 14,
   "id": "cabe0ddf",
   "metadata": {},
   "outputs": [
    {
     "name": "stdout",
     "output_type": "stream",
     "text": [
      "Confusion Matrix\n",
      "[[114  23]\n",
      " [ 31 108]]\n",
      "The accuracy rate is 80.43%\n"
     ]
    }
   ],
   "source": [
    "# First, set n-gram = Uni-gram + Bi-gram by setting parameter ngram_range = (1,2)\n",
    "cv12 = CountVectorizer(ngram_range=(1,2))\n",
    "\n",
    "# train and test data (x_train, x_test, y_train, y_test) have been splitted in task1, we will use the same split for consistent purpose\n",
    "# Generate counts from text using a vectorizer. This perform our step of computing word counts.  \n",
    "x_train12 = cv12.fit_transform(x_train).toarray()\n",
    "x_test12 = cv12.transform(x_test).toarray()\n",
    "\n",
    "# Fit a naive bayes model to the training data.\n",
    "# This will train the model using the word counts we compute, and the existing classifications in the training set.\n",
    "mnb12 = MultinomialNB()\n",
    "mnb12.fit(x_train12,y_train)\n",
    "# Now we can use the model to predict classifications for our test features.\n",
    "y_pred12 = mnb12.predict(x_test12)\n",
    "\n",
    "\n",
    "from sklearn.metrics import confusion_matrix\n",
    "\n",
    "# Finally we use the prediction result and compare with the inital test data classifier to check the accuracy.\n",
    "cm12 = confusion_matrix(y_test, y_pred12)\n",
    "print('Confusion Matrix')\n",
    "print(cm12)\n",
    "cm12_acc = (cm12[0][0]+cm12[1][1])/cm12.sum()\n",
    "print('The accuracy rate is {}%'.format(round(cm12_acc*100,2)))"
   ]
  },
  {
   "cell_type": "markdown",
   "id": "36511832",
   "metadata": {},
   "source": [
    "From the above, we can see that Uni-gram + Bi-gram yields the best result, we will again produce a confusion matrix.\n",
    "\n",
    "Below output demonstrate the performance of the Naïve Bayes classifier(Unigram + Bigram).\n",
    "\n",
    "The confusion matrix clearly indicate the proportion of True Negatives, False Positives, False Negatives and True Positives."
   ]
  },
  {
   "cell_type": "code",
   "execution_count": 15,
   "id": "78d341bf",
   "metadata": {
    "scrolled": true
   },
   "outputs": [
    {
     "data": {
      "text/plain": [
       "[Text(0, 0.5, 'False'), Text(0, 1.5, 'True')]"
      ]
     },
     "execution_count": 15,
     "metadata": {},
     "output_type": "execute_result"
    },
    {
     "data": {
      "image/png": "[encoded data removed]",
      "text/plain": [
       "<Figure size 432x288 with 2 Axes>"
      ]
     },
     "metadata": {
      "needs_background": "light"
     },
     "output_type": "display_data"
    }
   ],
   "source": [
    "import seaborn as sns\n",
    "ax = sns.heatmap(cm12/np.sum(cm12), annot=True, \n",
    "            fmt='.2%', cmap='Blues')\n",
    "\n",
    "ax.set_title('NaïveBayes Sentiment analysis (Unigram + Bigram)\\n\\n');\n",
    "ax.set_xlabel('\\nPredicted Values')\n",
    "ax.set_ylabel('Actual Values ');\n",
    "\n",
    "## Ticket labels - List must be in alphabetical order\n",
    "ax.xaxis.set_ticklabels(['False','True'])\n",
    "ax.yaxis.set_ticklabels(['False','True'])\n",
    "\n",
    "## Display the visualization of the Confusion Matrix."
   ]
  },
  {
   "cell_type": "markdown",
   "id": "63232050",
   "metadata": {},
   "source": [
    "## Conclusion"
   ]
  },
  {
   "cell_type": "markdown",
   "id": "795d7460",
   "metadata": {},
   "source": [
    "From the result, we can see increasing the size of n-gram may not necessary be ideal. This is because the size of the matrix grows exponentially as we increment n, so if we have a large corpus that is comprised of large documents our model may take a very long time to train. Secondly, it might not improve our performances.<br>\n",
    "Let's look at the accuracy of different n-grams below."
   ]
  },
  {
   "cell_type": "code",
   "execution_count": 16,
   "id": "aa1da2c0",
   "metadata": {
    "scrolled": true
   },
   "outputs": [
    {
     "name": "stdout",
     "output_type": "stream",
     "text": [
      "Overall Accuracy of different n-grams\n",
      "Uni-gram:                    77.9%\n",
      "Bi-gram:                     76.45%\n",
      "Tri-gram:                    65.94%\n",
      "Uni-gram + Bi-gram:          80.43%\n"
     ]
    }
   ],
   "source": [
    "print('Overall Accuracy of different n-grams')\n",
    "print('Uni-gram:{}{}%'.format(20*' ', round(cm_acc*100,2)))\n",
    "print('Bi-gram:{}{}%'.format(21*' ', round(cm2_acc*100,2)))\n",
    "print('Tri-gram:{}{}%'.format(20*' ', round(cm3_acc*100,2)))\n",
    "print('Uni-gram + Bi-gram:{}{}%'.format(10*' ', round(cm12_acc*100,2)))"
   ]
  },
  {
   "cell_type": "markdown",
   "id": "c255bf2f",
   "metadata": {},
   "source": [
    "We can conclude the expected improvement is acheived. After adding 2-word sequence to the single words, the classifier perform the best, with 80.43% accuracy.<br>\n",
    "The reason for this improvement was illustrated in the above sessions, as we look into the example of the phrase <b>'not good'</b>, unigram will seperate it into <b>'not' and 'good'</b>. We would only consider these two words individually with a unigram-only model and probably not capture that this is actually a negative sentiment because the word ‘good’ by itself is going to be highly correlated with a positive review.<br>\n",
    "<b>Uni-gram + Bi-gram</b> is able to solve this issue nicely, as it <b>add on the consideration for the phrase 'not good' as a whole </b>and thus more likely to classifer it as a negative sentiment."
   ]
  },
  {
   "cell_type": "markdown",
   "id": "a0286459",
   "metadata": {},
   "source": [
    "## Reference"
   ]
  },
  {
   "cell_type": "markdown",
   "id": "51df00d3",
   "metadata": {},
   "source": [
    "Nithyashree, V., 2021. What Are n-grams and How to Implement Them in Python? [Online] - Available from: https://www.analyticsvidhya.com/blog/2021/09/what-are-n-grams-and-how-to-implement-them-in-python/\n",
    "[Accessed 03 Jan 2022]"
   ]
  }
 ],
 "metadata": {
  "kernelspec": {
   "display_name": "Python 3",
   "language": "python",
   "name": "python3"
  },
  "language_info": {
   "codemirror_mode": {
    "name": "ipython",
    "version": 3
   },
   "file_extension": ".py",
   "mimetype": "text/x-python",
   "name": "python",
   "nbconvert_exporter": "python",
   "pygments_lexer": "ipython3",
   "version": "3.8.8"
  }
 },
 "nbformat": 4,
 "nbformat_minor": 5
}
